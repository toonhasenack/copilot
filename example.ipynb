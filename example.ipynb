{
 "cells": [
  {
   "cell_type": "code",
   "execution_count": 1,
   "metadata": {},
   "outputs": [],
   "source": [
    "%load_ext autoreload\n",
    "%autoreload 2\n",
    "from copilot_helper import *"
   ]
  },
  {
   "cell_type": "code",
   "execution_count": 5,
   "metadata": {},
   "outputs": [
    {
     "data": {
      "text/html": [
       "<style>pre { line-height: 125%; }\n",
       "td.linenos .normal { color: inherit; background-color: transparent; padding-left: 5px; padding-right: 5px; }\n",
       "span.linenos { color: inherit; background-color: transparent; padding-left: 5px; padding-right: 5px; }\n",
       "td.linenos .special { color: #000000; background-color: #ffffc0; padding-left: 5px; padding-right: 5px; }\n",
       "span.linenos.special { color: #000000; background-color: #ffffc0; padding-left: 5px; padding-right: 5px; }\n",
       ".output_html .hll { background-color: #ffffcc }\n",
       ".output_html { background: #f8f8f8; }\n",
       ".output_html .c { color: #3D7B7B; font-style: italic } /* Comment */\n",
       ".output_html .err { border: 1px solid #FF0000 } /* Error */\n",
       ".output_html .k { color: #008000; font-weight: bold } /* Keyword */\n",
       ".output_html .o { color: #666666 } /* Operator */\n",
       ".output_html .ch { color: #3D7B7B; font-style: italic } /* Comment.Hashbang */\n",
       ".output_html .cm { color: #3D7B7B; font-style: italic } /* Comment.Multiline */\n",
       ".output_html .cp { color: #9C6500 } /* Comment.Preproc */\n",
       ".output_html .cpf { color: #3D7B7B; font-style: italic } /* Comment.PreprocFile */\n",
       ".output_html .c1 { color: #3D7B7B; font-style: italic } /* Comment.Single */\n",
       ".output_html .cs { color: #3D7B7B; font-style: italic } /* Comment.Special */\n",
       ".output_html .gd { color: #A00000 } /* Generic.Deleted */\n",
       ".output_html .ge { font-style: italic } /* Generic.Emph */\n",
       ".output_html .gr { color: #E40000 } /* Generic.Error */\n",
       ".output_html .gh { color: #000080; font-weight: bold } /* Generic.Heading */\n",
       ".output_html .gi { color: #008400 } /* Generic.Inserted */\n",
       ".output_html .go { color: #717171 } /* Generic.Output */\n",
       ".output_html .gp { color: #000080; font-weight: bold } /* Generic.Prompt */\n",
       ".output_html .gs { font-weight: bold } /* Generic.Strong */\n",
       ".output_html .gu { color: #800080; font-weight: bold } /* Generic.Subheading */\n",
       ".output_html .gt { color: #0044DD } /* Generic.Traceback */\n",
       ".output_html .kc { color: #008000; font-weight: bold } /* Keyword.Constant */\n",
       ".output_html .kd { color: #008000; font-weight: bold } /* Keyword.Declaration */\n",
       ".output_html .kn { color: #008000; font-weight: bold } /* Keyword.Namespace */\n",
       ".output_html .kp { color: #008000 } /* Keyword.Pseudo */\n",
       ".output_html .kr { color: #008000; font-weight: bold } /* Keyword.Reserved */\n",
       ".output_html .kt { color: #B00040 } /* Keyword.Type */\n",
       ".output_html .m { color: #666666 } /* Literal.Number */\n",
       ".output_html .s { color: #BA2121 } /* Literal.String */\n",
       ".output_html .na { color: #687822 } /* Name.Attribute */\n",
       ".output_html .nb { color: #008000 } /* Name.Builtin */\n",
       ".output_html .nc { color: #0000FF; font-weight: bold } /* Name.Class */\n",
       ".output_html .no { color: #880000 } /* Name.Constant */\n",
       ".output_html .nd { color: #AA22FF } /* Name.Decorator */\n",
       ".output_html .ni { color: #717171; font-weight: bold } /* Name.Entity */\n",
       ".output_html .ne { color: #CB3F38; font-weight: bold } /* Name.Exception */\n",
       ".output_html .nf { color: #0000FF } /* Name.Function */\n",
       ".output_html .nl { color: #767600 } /* Name.Label */\n",
       ".output_html .nn { color: #0000FF; font-weight: bold } /* Name.Namespace */\n",
       ".output_html .nt { color: #008000; font-weight: bold } /* Name.Tag */\n",
       ".output_html .nv { color: #19177C } /* Name.Variable */\n",
       ".output_html .ow { color: #AA22FF; font-weight: bold } /* Operator.Word */\n",
       ".output_html .w { color: #bbbbbb } /* Text.Whitespace */\n",
       ".output_html .mb { color: #666666 } /* Literal.Number.Bin */\n",
       ".output_html .mf { color: #666666 } /* Literal.Number.Float */\n",
       ".output_html .mh { color: #666666 } /* Literal.Number.Hex */\n",
       ".output_html .mi { color: #666666 } /* Literal.Number.Integer */\n",
       ".output_html .mo { color: #666666 } /* Literal.Number.Oct */\n",
       ".output_html .sa { color: #BA2121 } /* Literal.String.Affix */\n",
       ".output_html .sb { color: #BA2121 } /* Literal.String.Backtick */\n",
       ".output_html .sc { color: #BA2121 } /* Literal.String.Char */\n",
       ".output_html .dl { color: #BA2121 } /* Literal.String.Delimiter */\n",
       ".output_html .sd { color: #BA2121; font-style: italic } /* Literal.String.Doc */\n",
       ".output_html .s2 { color: #BA2121 } /* Literal.String.Double */\n",
       ".output_html .se { color: #AA5D1F; font-weight: bold } /* Literal.String.Escape */\n",
       ".output_html .sh { color: #BA2121 } /* Literal.String.Heredoc */\n",
       ".output_html .si { color: #A45A77; font-weight: bold } /* Literal.String.Interpol */\n",
       ".output_html .sx { color: #008000 } /* Literal.String.Other */\n",
       ".output_html .sr { color: #A45A77 } /* Literal.String.Regex */\n",
       ".output_html .s1 { color: #BA2121 } /* Literal.String.Single */\n",
       ".output_html .ss { color: #19177C } /* Literal.String.Symbol */\n",
       ".output_html .bp { color: #008000 } /* Name.Builtin.Pseudo */\n",
       ".output_html .fm { color: #0000FF } /* Name.Function.Magic */\n",
       ".output_html .vc { color: #19177C } /* Name.Variable.Class */\n",
       ".output_html .vg { color: #19177C } /* Name.Variable.Global */\n",
       ".output_html .vi { color: #19177C } /* Name.Variable.Instance */\n",
       ".output_html .vm { color: #19177C } /* Name.Variable.Magic */\n",
       ".output_html .il { color: #666666 } /* Literal.Number.Integer.Long */</style><div class=\"highlight\"><pre><span></span><span class=\"n\">Below</span> <span class=\"ow\">is</span> <span class=\"n\">a</span> <span class=\"n\">minimal</span> <span class=\"n\">Fibonacci</span> <span class=\"n\">generator</span> <span class=\"k\">with</span> <span class=\"n\">a</span> <span class=\"n\">simple</span> <span class=\"n\">demo</span><span class=\"o\">.</span>\n",
       "\n",
       "<span class=\"err\">```</span><span class=\"n\">python</span>\n",
       "<span class=\"c1\"># Minimal Fibonacci generator and demo</span>\n",
       "\n",
       "<span class=\"k\">def</span> <span class=\"nf\">fib</span><span class=\"p\">():</span>\n",
       "    <span class=\"c1\"># Infinite generator of Fibonacci numbers</span>\n",
       "    <span class=\"n\">a</span><span class=\"p\">,</span> <span class=\"n\">b</span> <span class=\"o\">=</span> <span class=\"mi\">0</span><span class=\"p\">,</span> <span class=\"mi\">1</span>\n",
       "    <span class=\"k\">while</span> <span class=\"kc\">True</span><span class=\"p\">:</span>\n",
       "        <span class=\"k\">yield</span> <span class=\"n\">a</span>\n",
       "        <span class=\"n\">a</span><span class=\"p\">,</span> <span class=\"n\">b</span> <span class=\"o\">=</span> <span class=\"n\">b</span><span class=\"p\">,</span> <span class=\"n\">a</span> <span class=\"o\">+</span> <span class=\"n\">b</span>\n",
       "\n",
       "<span class=\"c1\"># Produce the first N Fibonacci numbers</span>\n",
       "<span class=\"n\">N</span> <span class=\"o\">=</span> <span class=\"mi\">20</span>  <span class=\"c1\"># change this to get more/less terms</span>\n",
       "<span class=\"n\">g</span> <span class=\"o\">=</span> <span class=\"n\">fib</span><span class=\"p\">()</span>\n",
       "<span class=\"n\">first_n</span> <span class=\"o\">=</span> <span class=\"p\">[</span><span class=\"nb\">next</span><span class=\"p\">(</span><span class=\"n\">g</span><span class=\"p\">)</span> <span class=\"k\">for</span> <span class=\"n\">_</span> <span class=\"ow\">in</span> <span class=\"nb\">range</span><span class=\"p\">(</span><span class=\"n\">N</span><span class=\"p\">)]</span>\n",
       "<span class=\"nb\">print</span><span class=\"p\">(</span><span class=\"s2\">&quot;First&quot;</span><span class=\"p\">,</span> <span class=\"n\">N</span><span class=\"p\">,</span> <span class=\"s2\">&quot;Fibonacci numbers:&quot;</span><span class=\"p\">,</span> <span class=\"n\">first_n</span><span class=\"p\">)</span>\n",
       "\n",
       "<span class=\"c1\"># Optionally, produce all Fibonacci numbers &lt;= limit</span>\n",
       "<span class=\"n\">limit</span> <span class=\"o\">=</span> <span class=\"mi\">1000</span>  <span class=\"c1\"># change this to set a maximum value</span>\n",
       "<span class=\"n\">a</span><span class=\"p\">,</span> <span class=\"n\">b</span> <span class=\"o\">=</span> <span class=\"mi\">0</span><span class=\"p\">,</span> <span class=\"mi\">1</span>\n",
       "<span class=\"n\">upto</span> <span class=\"o\">=</span> <span class=\"p\">[]</span>\n",
       "<span class=\"k\">while</span> <span class=\"n\">a</span> <span class=\"o\">&lt;=</span> <span class=\"n\">limit</span><span class=\"p\">:</span>\n",
       "    <span class=\"n\">upto</span><span class=\"o\">.</span><span class=\"n\">append</span><span class=\"p\">(</span><span class=\"n\">a</span><span class=\"p\">)</span>\n",
       "    <span class=\"n\">a</span><span class=\"p\">,</span> <span class=\"n\">b</span> <span class=\"o\">=</span> <span class=\"n\">b</span><span class=\"p\">,</span> <span class=\"n\">a</span> <span class=\"o\">+</span> <span class=\"n\">b</span>\n",
       "<span class=\"nb\">print</span><span class=\"p\">(</span><span class=\"s2\">&quot;Fibonacci numbers &lt;= &quot;</span><span class=\"p\">,</span> <span class=\"n\">limit</span><span class=\"p\">,</span> <span class=\"s2\">&quot;:&quot;</span><span class=\"p\">,</span> <span class=\"n\">upto</span><span class=\"p\">)</span>\n",
       "<span class=\"err\">```</span>\n",
       "</pre></div>\n"
      ],
      "text/latex": [
       "\\begin{Verbatim}[commandchars=\\\\\\{\\}]\n",
       "\\PY{n}{Below} \\PY{o+ow}{is} \\PY{n}{a} \\PY{n}{minimal} \\PY{n}{Fibonacci} \\PY{n}{generator} \\PY{k}{with} \\PY{n}{a} \\PY{n}{simple} \\PY{n}{demo}\\PY{o}{.}\n",
       "\n",
       "\\PY{err}{`}\\PY{err}{`}\\PY{err}{`}\\PY{n}{python}\n",
       "\\PY{c+c1}{\\PYZsh{} Minimal Fibonacci generator and demo}\n",
       "\n",
       "\\PY{k}{def} \\PY{n+nf}{fib}\\PY{p}{(}\\PY{p}{)}\\PY{p}{:}\n",
       "    \\PY{c+c1}{\\PYZsh{} Infinite generator of Fibonacci numbers}\n",
       "    \\PY{n}{a}\\PY{p}{,} \\PY{n}{b} \\PY{o}{=} \\PY{l+m+mi}{0}\\PY{p}{,} \\PY{l+m+mi}{1}\n",
       "    \\PY{k}{while} \\PY{k+kc}{True}\\PY{p}{:}\n",
       "        \\PY{k}{yield} \\PY{n}{a}\n",
       "        \\PY{n}{a}\\PY{p}{,} \\PY{n}{b} \\PY{o}{=} \\PY{n}{b}\\PY{p}{,} \\PY{n}{a} \\PY{o}{+} \\PY{n}{b}\n",
       "\n",
       "\\PY{c+c1}{\\PYZsh{} Produce the first N Fibonacci numbers}\n",
       "\\PY{n}{N} \\PY{o}{=} \\PY{l+m+mi}{20}  \\PY{c+c1}{\\PYZsh{} change this to get more/less terms}\n",
       "\\PY{n}{g} \\PY{o}{=} \\PY{n}{fib}\\PY{p}{(}\\PY{p}{)}\n",
       "\\PY{n}{first\\PYZus{}n} \\PY{o}{=} \\PY{p}{[}\\PY{n+nb}{next}\\PY{p}{(}\\PY{n}{g}\\PY{p}{)} \\PY{k}{for} \\PY{n}{\\PYZus{}} \\PY{o+ow}{in} \\PY{n+nb}{range}\\PY{p}{(}\\PY{n}{N}\\PY{p}{)}\\PY{p}{]}\n",
       "\\PY{n+nb}{print}\\PY{p}{(}\\PY{l+s+s2}{\\PYZdq{}}\\PY{l+s+s2}{First}\\PY{l+s+s2}{\\PYZdq{}}\\PY{p}{,} \\PY{n}{N}\\PY{p}{,} \\PY{l+s+s2}{\\PYZdq{}}\\PY{l+s+s2}{Fibonacci numbers:}\\PY{l+s+s2}{\\PYZdq{}}\\PY{p}{,} \\PY{n}{first\\PYZus{}n}\\PY{p}{)}\n",
       "\n",
       "\\PY{c+c1}{\\PYZsh{} Optionally, produce all Fibonacci numbers \\PYZlt{}= limit}\n",
       "\\PY{n}{limit} \\PY{o}{=} \\PY{l+m+mi}{1000}  \\PY{c+c1}{\\PYZsh{} change this to set a maximum value}\n",
       "\\PY{n}{a}\\PY{p}{,} \\PY{n}{b} \\PY{o}{=} \\PY{l+m+mi}{0}\\PY{p}{,} \\PY{l+m+mi}{1}\n",
       "\\PY{n}{upto} \\PY{o}{=} \\PY{p}{[}\\PY{p}{]}\n",
       "\\PY{k}{while} \\PY{n}{a} \\PY{o}{\\PYZlt{}}\\PY{o}{=} \\PY{n}{limit}\\PY{p}{:}\n",
       "    \\PY{n}{upto}\\PY{o}{.}\\PY{n}{append}\\PY{p}{(}\\PY{n}{a}\\PY{p}{)}\n",
       "    \\PY{n}{a}\\PY{p}{,} \\PY{n}{b} \\PY{o}{=} \\PY{n}{b}\\PY{p}{,} \\PY{n}{a} \\PY{o}{+} \\PY{n}{b}\n",
       "\\PY{n+nb}{print}\\PY{p}{(}\\PY{l+s+s2}{\\PYZdq{}}\\PY{l+s+s2}{Fibonacci numbers \\PYZlt{}= }\\PY{l+s+s2}{\\PYZdq{}}\\PY{p}{,} \\PY{n}{limit}\\PY{p}{,} \\PY{l+s+s2}{\\PYZdq{}}\\PY{l+s+s2}{:}\\PY{l+s+s2}{\\PYZdq{}}\\PY{p}{,} \\PY{n}{upto}\\PY{p}{)}\n",
       "\\PY{err}{`}\\PY{err}{`}\\PY{err}{`}\n",
       "\\end{Verbatim}\n"
      ],
      "text/plain": [
       "Below is a minimal Fibonacci generator with a simple demo.\n",
       "\n",
       "```python\n",
       "# Minimal Fibonacci generator and demo\n",
       "\n",
       "def fib():\n",
       "    # Infinite generator of Fibonacci numbers\n",
       "    a, b = 0, 1\n",
       "    while True:\n",
       "        yield a\n",
       "        a, b = b, a + b\n",
       "\n",
       "# Produce the first N Fibonacci numbers\n",
       "N = 20  # change this to get more/less terms\n",
       "g = fib()\n",
       "first_n = [next(g) for _ in range(N)]\n",
       "print(\"First\", N, \"Fibonacci numbers:\", first_n)\n",
       "\n",
       "# Optionally, produce all Fibonacci numbers <= limit\n",
       "limit = 1000  # change this to set a maximum value\n",
       "a, b = 0, 1\n",
       "upto = []\n",
       "while a <= limit:\n",
       "    upto.append(a)\n",
       "    a, b = b, a + b\n",
       "print(\"Fibonacci numbers <= \", limit, \":\", upto)\n",
       "```"
      ]
     },
     "metadata": {},
     "output_type": "display_data"
    }
   ],
   "source": [
    "raw = ask_copilot(\"Write code that produces the Fibonacci sequence.\", agent=\"programming\")\n",
    "to_code(raw)"
   ]
  },
  {
   "cell_type": "code",
   "execution_count": 6,
   "metadata": {},
   "outputs": [
    {
     "data": {
      "text/markdown": [
       "Historically, the equation comes from the calculus of variations (e.g., the brachistochrone), where Euler and Lagrange formalized the condition for a curve $y(x)$ to extremize the action functional $J[y]=\\int_{x_0}^{x_1} L(x,y,y')\\,dx$. Considering a variation $y\\to y+\\epsilon\\eta$ with $\\eta(x_0)=\\eta(x_1)=0$, the first variation is $\\delta J=\\int_{x_0}^{x_1}\\left(\\frac{\\partial L}{\\partial y}\\eta+\\frac{\\partial L}{\\partial y'}\\eta'\\right)dx=\\int_{x_0}^{x_1}\\left(\\frac{\\partial L}{\\partial y}-\\frac{d}{dx}\\frac{\\partial L}{\\partial y'}\\right)\\eta\\,dx$, so requiring $\\delta J=0$ for all $\\eta$ yields the Euler–Lagrange equation $$\\frac{\\partial L}{\\partial y}-\\frac{d}{dx}\\frac{\\partial L}{\\partial y'}=0.$$ If endpoints are free, boundary terms give natural boundary conditions; for multiple fields or variables the generalization is $$\\frac{\\partial L}{\\partial y^i}-\\sum_\\mu \\frac{d}{dx^\\mu}\\frac{\\partial L}{\\partial(\\partial_\\mu y^i)}=0,$$ which underlies mechanics via stationary action and, more broadly, field theory."
      ],
      "text/plain": [
       "<IPython.core.display.Markdown object>"
      ]
     },
     "metadata": {},
     "output_type": "display_data"
    }
   ],
   "source": [
    "raw = ask_copilot(\"Explain me the origin of the Euler-Lagrange equation.\", agent=\"math\")\n",
    "to_markdown(raw)"
   ]
  }
 ],
 "metadata": {
  "kernelspec": {
   "display_name": "base",
   "language": "python",
   "name": "python3"
  },
  "language_info": {
   "codemirror_mode": {
    "name": "ipython",
    "version": 3
   },
   "file_extension": ".py",
   "mimetype": "text/x-python",
   "name": "python",
   "nbconvert_exporter": "python",
   "pygments_lexer": "ipython3",
   "version": "3.12.7"
  }
 },
 "nbformat": 4,
 "nbformat_minor": 2
}
