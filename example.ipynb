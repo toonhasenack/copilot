{
 "cells": [
  {
   "cell_type": "code",
   "execution_count": 5,
   "metadata": {},
   "outputs": [
    {
     "name": "stdout",
     "output_type": "stream",
     "text": [
      "The autoreload extension is already loaded. To reload it, use:\n",
      "  %reload_ext autoreload\n"
     ]
    }
   ],
   "source": [
    "%load_ext autoreload\n",
    "%autoreload 2\n",
    "from copilot_helper import *"
   ]
  },
  {
   "cell_type": "code",
   "execution_count": 6,
   "metadata": {},
   "outputs": [
    {
     "data": {
      "text/markdown": [
       "It comes from seeking stationary points of a functional in the calculus of variations: given an action $$S[y]=\\int_a^b L(x,y,y')\\,dx,$$ vary $y\\to y+\\varepsilon\\eta$ with $\\eta(a)=\\eta(b)=0$ to get $$\\delta S=\\left.\\frac{d}{d\\varepsilon}S[y+\\varepsilon\\eta]\\right|_{\\varepsilon=0}=\\int_a^b\\Big(\\frac{\\partial L}{\\partial y}\\,\\eta+\\frac{\\partial L}{\\partial y'}\\,\\eta'\\Big)\\,dx=\\int_a^b\\Big(\\frac{\\partial L}{\\partial y}-\\frac{d}{dx}\\frac{\\partial L}{\\partial y'}\\Big)\\eta\\,dx,$$ where integration by parts kills the boundary term.  \n",
       "Requiring stationarity for all test functions $\\eta$ forces the integrand to vanish, yielding the Euler–Lagrange equation $$\\frac{\\partial L}{\\partial y}-\\frac{d}{dx}\\frac{\\partial L}{\\partial y'}=0.$$  \n",
       "Historically arising from problems like the brachistochrone and Hamilton’s principle in mechanics, it generalizes to $$\\frac{\\partial L}{\\partial y_i}-\\frac{d}{dx}\\frac{\\partial L}{\\partial y_i'}=0$$ and, for fields, $$\\frac{\\partial L}{\\partial \\phi}-\\partial_\\mu\\!\\Big(\\frac{\\partial L}{\\partial(\\partial_\\mu\\phi)}\\Big)=0.$$"
      ],
      "text/plain": [
       "<IPython.core.display.Markdown object>"
      ]
     },
     "metadata": {},
     "output_type": "display_data"
    }
   ],
   "source": [
    "raw = ask_copilot(\"Explain me the origin of the Euler-Lagrange equation.\")\n",
    "to_markdown(raw)"
   ]
  },
  {
   "cell_type": "code",
   "execution_count": null,
   "metadata": {},
   "outputs": [],
   "source": []
  }
 ],
 "metadata": {
  "kernelspec": {
   "display_name": "base",
   "language": "python",
   "name": "python3"
  },
  "language_info": {
   "codemirror_mode": {
    "name": "ipython",
    "version": 3
   },
   "file_extension": ".py",
   "mimetype": "text/x-python",
   "name": "python",
   "nbconvert_exporter": "python",
   "pygments_lexer": "ipython3",
   "version": "3.12.7"
  }
 },
 "nbformat": 4,
 "nbformat_minor": 2
}
